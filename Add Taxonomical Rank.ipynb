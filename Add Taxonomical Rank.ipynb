{
 "cells": [
  {
   "cell_type": "code",
   "execution_count": 1,
   "metadata": {},
   "outputs": [],
   "source": [
    "import numpy as np\n",
    "import pandas as pd"
   ]
  },
  {
   "cell_type": "code",
   "execution_count": 9,
   "metadata": {},
   "outputs": [],
   "source": [
    "TAXA_COLS = [\"superkingdom\"\n",
    "            , \"phylum\"\n",
    "            , \"class\"\n",
    "            , \"order\"\n",
    "            , \"family\"\n",
    "            , \"genus\"\n",
    "            , \"species\"\n",
    "]"
   ]
  },
  {
   "cell_type": "code",
   "execution_count": 10,
   "metadata": {},
   "outputs": [],
   "source": [
    "FILEPATH_OUT = \"/Users/raouldias/Desktop/Masters Project/Datasets/new_taxa.csv\"\n",
    "FILEPATH_HYDROLASES = \"/Users/raouldias/Desktop/Masters Project/Datasets/brenda_hierarchical.csv\"\n",
    "FILEPATH_TAXONOMY = \"/Users/raouldias/Desktop/Masters Project/Datasets/taxonomy.csv\""
   ]
  },
  {
   "cell_type": "code",
   "execution_count": 11,
   "metadata": {},
   "outputs": [],
   "source": [
    "# load raw data\n",
    "d = pd.read_csv(FILEPATH_HYDROLASES, delimiter = \",\")\n",
    "    # load taxa, dropping duplicate rows\n",
    "taxa = pd.read_csv(FILEPATH_TAXONOMY, delimiter = \";\").drop_duplicates(subset=TAXA_COLS)\n",
    "    # add taxa information to raw data where the raw data column 'Organsim'\n",
    "    # matches the taxa column 'species'\n",
    "out = d.merge(taxa, left_on=\"Organism\", right_on=\"species\", how=\"left\")\n",
    "    # write csv file\n",
    "out.to_csv(FILEPATH_OUT)"
   ]
  },
  {
   "cell_type": "code",
   "execution_count": null,
   "metadata": {},
   "outputs": [],
   "source": []
  }
 ],
 "metadata": {
  "kernelspec": {
   "display_name": "Python 3",
   "language": "python",
   "name": "python3"
  },
  "language_info": {
   "codemirror_mode": {
    "name": "ipython",
    "version": 3
   },
   "file_extension": ".py",
   "mimetype": "text/x-python",
   "name": "python",
   "nbconvert_exporter": "python",
   "pygments_lexer": "ipython3",
   "version": "3.7.3"
  }
 },
 "nbformat": 4,
 "nbformat_minor": 2
}
